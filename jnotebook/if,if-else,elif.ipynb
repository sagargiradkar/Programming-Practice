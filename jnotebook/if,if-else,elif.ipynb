{
 "cells": [
  {
   "cell_type": "code",
   "execution_count": 1,
   "metadata": {},
   "outputs": [],
   "source": [
    "a= 10"
   ]
  },
  {
   "cell_type": "code",
   "execution_count": 3,
   "metadata": {},
   "outputs": [],
   "source": [
    "if a < 15 :\n",
    "    #print(\"My name is sagar\")\n",
    "    pass"
   ]
  },
  {
   "cell_type": "code",
   "execution_count": 2,
   "metadata": {},
   "outputs": [
    {
     "data": {
      "text/plain": [
       "True"
      ]
     },
     "execution_count": 2,
     "metadata": {},
     "output_type": "execute_result"
    }
   ],
   "source": [
    "a < 15"
   ]
  },
  {
   "cell_type": "code",
   "execution_count": 4,
   "metadata": {},
   "outputs": [
    {
     "name": "stdout",
     "output_type": "stream",
     "text": [
      "My name is sagar\n"
     ]
    }
   ],
   "source": [
    "if a < 15 :\n",
    "    print(\"My name is sagar\")"
   ]
  },
  {
   "cell_type": "code",
   "execution_count": 7,
   "metadata": {},
   "outputs": [
    {
     "name": "stdout",
     "output_type": "stream",
     "text": [
      "My name is not sagar\n"
     ]
    }
   ],
   "source": [
    "if 24 < 15 :\n",
    "    print(\"My name is sagar\")\n",
    "else:\n",
    "    print(\"My name is not sagar\")"
   ]
  },
  {
   "cell_type": "markdown",
   "metadata": {},
   "source": [
    "\n"
   ]
  },
  {
   "cell_type": "code",
   "execution_count": 8,
   "metadata": {},
   "outputs": [
    {
     "name": "stdout",
     "output_type": "stream",
     "text": [
      "if statment is wrong \n"
     ]
    }
   ],
   "source": [
    "if 10 < 3 :\n",
    "    print(\"10 is lesser than 3\")\n",
    "else:\n",
    "    print(\"if statment is wrong \")"
   ]
  },
  {
   "cell_type": "code",
   "execution_count": 9,
   "metadata": {},
   "outputs": [
    {
     "name": "stdout",
     "output_type": "stream",
     "text": [
      "10 is lesser than 5\n"
     ]
    }
   ],
   "source": [
    "if 5 < 10 :\n",
    "    print(\"10 is lesser than 5\")\n",
    "else:\n",
    "    print(\"if statment is wrong\")"
   ]
  },
  {
   "cell_type": "code",
   "execution_count": 10,
   "metadata": {},
   "outputs": [
    {
     "ename": "IndentationError",
     "evalue": "expected an indented block (<ipython-input-10-2df1e9049cdc>, line 4)",
     "output_type": "error",
     "traceback": [
      "\u001b[0;36m  File \u001b[0;32m\"<ipython-input-10-2df1e9049cdc>\"\u001b[0;36m, line \u001b[0;32m4\u001b[0m\n\u001b[0;31m    print(\"if statment is wrong\")\u001b[0m\n\u001b[0m        ^\u001b[0m\n\u001b[0;31mIndentationError\u001b[0m\u001b[0;31m:\u001b[0m expected an indented block\n"
     ]
    }
   ],
   "source": [
    "if 5 < 10 :\n",
    "    print(\"10 is lesser than 5\")\n",
    "else:\n",
    "print(\"if statment is wrong\")"
   ]
  },
  {
   "cell_type": "code",
   "execution_count": 11,
   "metadata": {},
   "outputs": [
    {
     "name": "stdout",
     "output_type": "stream",
     "text": [
      "10 is lesser than 5\n"
     ]
    }
   ],
   "source": [
    "if 5 < 10 :\n",
    "    print(\"10 is lesser than 5\")\n",
    "else:\n",
    "    print(\"if statment is wrong\")"
   ]
  },
  {
   "cell_type": "code",
   "execution_count": 12,
   "metadata": {},
   "outputs": [
    {
     "data": {
      "text/plain": [
       "True"
      ]
     },
     "execution_count": 12,
     "metadata": {},
     "output_type": "execute_result"
    }
   ],
   "source": [
    "5 < 10"
   ]
  },
  {
   "cell_type": "code",
   "execution_count": 13,
   "metadata": {},
   "outputs": [
    {
     "name": "stdout",
     "output_type": "stream",
     "text": [
      "I wont be able to buy anything\n"
     ]
    }
   ],
   "source": [
    "income = 100\n",
    "if income < 50 :\n",
    "    print(\"I will be able to buy phone\")\n",
    "elif income < 70 :\n",
    "    print(\"I will be able to buy car\")\n",
    "elif income < 90 :\n",
    "    print(\"I will be able to reant aHouse\")\n",
    "else:\n",
    "    print(\"I wont be able to buy anything\")"
   ]
  },
  {
   "cell_type": "code",
   "execution_count": 14,
   "metadata": {},
   "outputs": [
    {
     "name": "stdout",
     "output_type": "stream",
     "text": [
      "I will be able to buy phone\n"
     ]
    }
   ],
   "source": [
    "income = 10\n",
    "if income < 50 :\n",
    "    print(\"I will be able to buy phone\")\n",
    "elif income < 70 :\n",
    "    print(\"I will be able to buy car\")\n",
    "elif income < 90 :\n",
    "    print(\"I will be able to reant aHouse\")\n",
    "else:\n",
    "    print(\"I wont be able to buy anything\")"
   ]
  },
  {
   "cell_type": "code",
   "execution_count": 15,
   "metadata": {},
   "outputs": [
    {
     "name": "stdout",
     "output_type": "stream",
     "text": [
      "I will be able to buy car\n"
     ]
    }
   ],
   "source": [
    "income = 65\n",
    "if income < 50 :\n",
    "    print(\"I will be able to buy phone\")\n",
    "elif income < 70 :\n",
    "    print(\"I will be able to buy car\")\n",
    "elif income < 90 :\n",
    "    print(\"I will be able to reant aHouse\")\n",
    "else:\n",
    "    print(\"I wont be able to buy anything\")"
   ]
  },
  {
   "cell_type": "code",
   "execution_count": 16,
   "metadata": {},
   "outputs": [
    {
     "name": "stdout",
     "output_type": "stream",
     "text": [
      "I will be able to reant aHouse\n"
     ]
    }
   ],
   "source": [
    "income = 75\n",
    "if income < 50 :\n",
    "    print(\"I will be able to buy phone\")\n",
    "elif income < 70 :\n",
    "    print(\"I will be able to buy car\")\n",
    "elif income < 90 :\n",
    "    print(\"I will be able to reant aHouse\")\n",
    "else:\n",
    "    print(\"I wont be able to buy anything\")"
   ]
  },
  {
   "cell_type": "code",
   "execution_count": 17,
   "metadata": {},
   "outputs": [
    {
     "name": "stdout",
     "output_type": "stream",
     "text": [
      "Enter your income :1000\n",
      "I wont be able to buy anything\n"
     ]
    }
   ],
   "source": [
    "income = int(input(\"Enter your income :\"))\n",
    "if income < 50 :\n",
    "    print(\"I will be able to buy phone\")\n",
    "elif income < 70 :\n",
    "    print(\"I will be able to buy car\")\n",
    "elif income < 90 :\n",
    "    print(\"I will be able to reant aHouse\")\n",
    "else:\n",
    "    print(\"I wont be able to buy anything\")"
   ]
  },
  {
   "cell_type": "code",
   "execution_count": 18,
   "metadata": {},
   "outputs": [
    {
     "name": "stdout",
     "output_type": "stream",
     "text": [
      "Enter your income :10\n",
      "I will be able to buy phone\n"
     ]
    }
   ],
   "source": [
    "income = int(input(\"Enter your income :\"))\n",
    "if income < 50 :\n",
    "    print(\"I will be able to buy phone\")\n",
    "elif income < 70 :\n",
    "    print(\"I will be able to buy car\")\n",
    "elif income < 90 :\n",
    "    print(\"I will be able to reant aHouse\")\n",
    "else:\n",
    "    print(\"I wont be able to buy anything\")"
   ]
  },
  {
   "cell_type": "code",
   "execution_count": 19,
   "metadata": {},
   "outputs": [
    {
     "name": "stdout",
     "output_type": "stream",
     "text": [
      "Enter your income :45\n",
      "I will be able to buy phone\n"
     ]
    }
   ],
   "source": [
    "income = int(input(\"Enter your income :\"))\n",
    "if income < 50 :\n",
    "    print(\"I will be able to buy phone\")\n",
    "elif income < 70 :\n",
    "    print(\"I will be able to buy car\")\n",
    "elif income < 90 :\n",
    "    print(\"I will be able to reant aHouse\")\n",
    "else:\n",
    "    print(\"I wont be able to buy anything\")"
   ]
  },
  {
   "cell_type": "code",
   "execution_count": 20,
   "metadata": {},
   "outputs": [
    {
     "name": "stdout",
     "output_type": "stream",
     "text": [
      "Enter your income :10\n",
      "I will be able to buy phone\n"
     ]
    }
   ],
   "source": [
    "income = int(input(\"Enter your income :\"))\n",
    "if income < 50 :\n",
    "    print(\"I will be able to buy phone\")\n",
    "elif income < 70 :\n",
    "    print(\"I will be able to buy car\")\n",
    "elif income < 90 :\n",
    "    print(\"I will be able to reant aHouse\")\n",
    "else:\n",
    "    print(\"I wont be able to buy anything\")"
   ]
  },
  {
   "cell_type": "code",
   "execution_count": 21,
   "metadata": {},
   "outputs": [
    {
     "name": "stdout",
     "output_type": "stream",
     "text": [
      "Enter your income :89\n",
      "I will be able to reant aHouse\n"
     ]
    }
   ],
   "source": [
    "income = int(input(\"Enter your income :\"))\n",
    "if income < 50 :\n",
    "    print(\"I will be able to buy phone\")\n",
    "elif income < 70 :\n",
    "    print(\"I will be able to buy car\")\n",
    "elif income < 90 :\n",
    "    print(\"I will be able to reant aHouse\")\n",
    "else:\n",
    "    print(\"I wont be able to buy anything\")"
   ]
  },
  {
   "cell_type": "code",
   "execution_count": 24,
   "metadata": {},
   "outputs": [
    {
     "name": "stdout",
     "output_type": "stream",
     "text": [
      "Enter total price :1000\n",
      "Discount will be : 50.0\n"
     ]
    }
   ],
   "source": [
    "Total_Price = int(input(\"Enter total price :\"))\n",
    "if(Total_Price > 20000):\n",
    "    discount = Total_Price *0.20\n",
    "    print(\"Discount will be :\",discount)\n",
    "elif(Total_Price <= 7000):\n",
    "    discount = Total_Price * 0.05\n",
    "    print(\"Discount will be :\",discount)\n",
    "else:\n",
    "    print(\"Wont be able to give any discount\")"
   ]
  },
  {
   "cell_type": "code",
   "execution_count": 25,
   "metadata": {},
   "outputs": [
    {
     "name": "stdout",
     "output_type": "stream",
     "text": [
      "Enter total price :4565\n",
      "Discount will be : 228.25\n"
     ]
    }
   ],
   "source": [
    "Total_Price = int(input(\"Enter total price :\"))\n",
    "if(Total_Price > 20000):\n",
    "    discount = Total_Price *0.20\n",
    "    print(\"Discount will be :\",discount)\n",
    "elif(Total_Price <= 7000):\n",
    "    discount = Total_Price * 0.05\n",
    "    print(\"Discount will be :\",discount)\n",
    "else:\n",
    "    print(\"Wont be able to give any discount\")"
   ]
  },
  {
   "cell_type": "code",
   "execution_count": 26,
   "metadata": {},
   "outputs": [
    {
     "name": "stdout",
     "output_type": "stream",
     "text": [
      "Enter total price :80000\n",
      "Discount will be : 16000.0\n"
     ]
    }
   ],
   "source": [
    "Total_Price = int(input(\"Enter total price :\"))\n",
    "if(Total_Price > 20000):\n",
    "    discount = Total_Price *0.20\n",
    "    print(\"Discount will be :\",discount)\n",
    "elif(Total_Price <= 7000):\n",
    "    discount = Total_Price * 0.05\n",
    "    print(\"Discount will be :\",discount)\n",
    "else:\n",
    "    print(\"Wont be able to give any discount\")"
   ]
  },
  {
   "cell_type": "code",
   "execution_count": 27,
   "metadata": {},
   "outputs": [
    {
     "name": "stdout",
     "output_type": "stream",
     "text": [
      "you will be able to get a discount of 5 %\n",
      "You will be able to get one neuron with this amount\n"
     ]
    }
   ],
   "source": [
    "coupanCode = \"SAGAR5\"\n",
    "if (coupanCode == \"SAGAR5\") :\n",
    "    print(\"you will be able to get a discount of 5 %\")\n",
    "    paidAmount = (7080 - 7080 * 8.05)\n",
    "    print(\"You will be able to get one neuron with this amount\",paidAmount)\n",
    "else:\n",
    "    print(\"Kindly use a valid coupan code\")"
   ]
  },
  {
   "cell_type": "code",
   "execution_count": 28,
   "metadata": {},
   "outputs": [
    {
     "name": "stdout",
     "output_type": "stream",
     "text": [
      "you will be able to get a discount of 5 %\n",
      "You will be able to get one neuron with this amount -49914.00000000001\n"
     ]
    }
   ],
   "source": [
    "coupanCode = \"SAGAR5\"\n",
    "if (coupanCode == \"SAGAR5\") :\n",
    "    print(\"you will be able to get a discount of 5 %\")\n",
    "    paidAmount = (7080 - 7080 * 0.05)\n",
    "    print(\"You will be able to get one neuron with this amount\",paidAmount)\n",
    "else:\n",
    "    print(\"Kindly use a valid coupan code\")"
   ]
  },
  {
   "cell_type": "code",
   "execution_count": 29,
   "metadata": {},
   "outputs": [
    {
     "name": "stdout",
     "output_type": "stream",
     "text": [
      "you will be able to get a discount of 5 %\n",
      "You will be able to get one neuron with this amount 6726.0\n"
     ]
    }
   ],
   "source": [
    "coupanCode = \"SAGAR5\"\n",
    "if (coupanCode == \"SAGAR5\") :\n",
    "    print(\"you will be able to get a discount of 5 %\")\n",
    "    paidAmount = (7080 - 7080 * 0.05)\n",
    "    print(\"You will be able to get one neuron with this amount\",paidAmount)\n",
    "else:\n",
    "    print(\"Kindly use a valid coupan code\")"
   ]
  },
  {
   "cell_type": "code",
   "execution_count": 30,
   "metadata": {},
   "outputs": [
    {
     "name": "stdout",
     "output_type": "stream",
     "text": [
      "Enter CoupneCode :SAGAR5\n",
      "you will be able to get a discount of 5 %\n",
      "You will be able to get one neuron with this amount 6726.0\n"
     ]
    }
   ],
   "source": [
    "coupanCode = input(\"Enter CoupneCode :\")\n",
    "if (coupanCode == \"SAGAR5\") :\n",
    "    print(\"you will be able to get a discount of 5 %\")\n",
    "    paidAmount = (7080 - 7080 * 0.05)\n",
    "    print(\"You will be able to get one neuron with this amount\",paidAmount)\n",
    "else:\n",
    "    print(\"Kindly use a valid coupan code\")"
   ]
  },
  {
   "cell_type": "code",
   "execution_count": 31,
   "metadata": {},
   "outputs": [
    {
     "name": "stdout",
     "output_type": "stream",
     "text": [
      "Enter CoupneCode :sagar5\n",
      "Kindly use a valid coupan code\n"
     ]
    }
   ],
   "source": [
    "coupanCode = input(\"Enter CoupneCode :\")\n",
    "if (coupanCode == \"SAGAR5\") :\n",
    "    print(\"you will be able to get a discount of 5 %\")\n",
    "    paidAmount = (7080 - 7080 * 0.05)\n",
    "    print(\"You will be able to get one neuron with this amount\",paidAmount)\n",
    "else:\n",
    "    print(\"Kindly use a valid coupan code\")"
   ]
  },
  {
   "cell_type": "code",
   "execution_count": 35,
   "metadata": {},
   "outputs": [
    {
     "name": "stdout",
     "output_type": "stream",
     "text": [
      "Enter study hour  :10\n",
      "it will be difficult \n"
     ]
    }
   ],
   "source": [
    "study_hour = int(input(\"Enter study hour  :\"))\n",
    "if(study_hour < 1) :\n",
    "    print(\"it may take 8-9 month of time to make a transition\")\n",
    "elif(study_hour <4 and study_hour > 1):\n",
    "    print(\"it may take 6 month for transition\")\n",
    "elif(study_hour > 10) :\n",
    "    print(\"it will take 3 month of time for transition\")\n",
    "else :\n",
    "    print(\"it will be difficult \")"
   ]
  },
  {
   "cell_type": "code",
   "execution_count": 36,
   "metadata": {},
   "outputs": [
    {
     "name": "stdout",
     "output_type": "stream",
     "text": [
      "Enter study hour  :1\n",
      "it will be difficult \n"
     ]
    }
   ],
   "source": [
    "study_hour = int(input(\"Enter study hour  :\"))\n",
    "if(study_hour < 1) :\n",
    "    print(\"it may take 8-9 month of time to make a transition\")\n",
    "elif(study_hour <4 and study_hour > 1):\n",
    "    print(\"it may take 6 month for transition\")\n",
    "elif(study_hour > 10) :\n",
    "    print(\"it will take 3 month of time for transition\")\n",
    "else :\n",
    "    print(\"it will be difficult \")"
   ]
  },
  {
   "cell_type": "code",
   "execution_count": 37,
   "metadata": {},
   "outputs": [
    {
     "name": "stdout",
     "output_type": "stream",
     "text": [
      "Enter study hour  :0.30\n"
     ]
    },
    {
     "ename": "ValueError",
     "evalue": "invalid literal for int() with base 10: '0.30'",
     "output_type": "error",
     "traceback": [
      "\u001b[0;31m-------------------------------------------------------------------\u001b[0m",
      "\u001b[0;31mValueError\u001b[0m                        Traceback (most recent call last)",
      "\u001b[0;32m<ipython-input-37-0ea0ca1f19d8>\u001b[0m in \u001b[0;36m<module>\u001b[0;34m\u001b[0m\n\u001b[0;32m----> 1\u001b[0;31m \u001b[0mstudy_hour\u001b[0m \u001b[0;34m=\u001b[0m \u001b[0mint\u001b[0m\u001b[0;34m(\u001b[0m\u001b[0minput\u001b[0m\u001b[0;34m(\u001b[0m\u001b[0;34m\"Enter study hour  :\"\u001b[0m\u001b[0;34m)\u001b[0m\u001b[0;34m)\u001b[0m\u001b[0;34m\u001b[0m\u001b[0;34m\u001b[0m\u001b[0m\n\u001b[0m\u001b[1;32m      2\u001b[0m \u001b[0;32mif\u001b[0m\u001b[0;34m(\u001b[0m\u001b[0mstudy_hour\u001b[0m \u001b[0;34m<\u001b[0m \u001b[0;36m1\u001b[0m\u001b[0;34m)\u001b[0m \u001b[0;34m:\u001b[0m\u001b[0;34m\u001b[0m\u001b[0;34m\u001b[0m\u001b[0m\n\u001b[1;32m      3\u001b[0m     \u001b[0mprint\u001b[0m\u001b[0;34m(\u001b[0m\u001b[0;34m\"it may take 8-9 month of time to make a transition\"\u001b[0m\u001b[0;34m)\u001b[0m\u001b[0;34m\u001b[0m\u001b[0;34m\u001b[0m\u001b[0m\n\u001b[1;32m      4\u001b[0m \u001b[0;32melif\u001b[0m\u001b[0;34m(\u001b[0m\u001b[0mstudy_hour\u001b[0m \u001b[0;34m<\u001b[0m\u001b[0;36m4\u001b[0m \u001b[0;32mand\u001b[0m \u001b[0mstudy_hour\u001b[0m \u001b[0;34m>\u001b[0m \u001b[0;36m1\u001b[0m\u001b[0;34m)\u001b[0m\u001b[0;34m:\u001b[0m\u001b[0;34m\u001b[0m\u001b[0;34m\u001b[0m\u001b[0m\n\u001b[1;32m      5\u001b[0m     \u001b[0mprint\u001b[0m\u001b[0;34m(\u001b[0m\u001b[0;34m\"it may take 6 month for transition\"\u001b[0m\u001b[0;34m)\u001b[0m\u001b[0;34m\u001b[0m\u001b[0;34m\u001b[0m\u001b[0m\n",
      "\u001b[0;31mValueError\u001b[0m: invalid literal for int() with base 10: '0.30'"
     ]
    }
   ],
   "source": [
    "study_hour = int(input(\"Enter study hour  :\"))\n",
    "if(study_hour < 1) :\n",
    "    print(\"it may take 8-9 month of time to make a transition\")\n",
    "elif(study_hour <4 and study_hour > 1):\n",
    "    print(\"it may take 6 month for transition\")\n",
    "elif(study_hour > 10) :\n",
    "    print(\"it will take 3 month of time for transition\")\n",
    "else :\n",
    "    print(\"it will be difficult \")"
   ]
  },
  {
   "cell_type": "code",
   "execution_count": 40,
   "metadata": {},
   "outputs": [
    {
     "name": "stdout",
     "output_type": "stream",
     "text": [
      "Enter study hour :.89\n",
      "it will take 8-9 month\n"
     ]
    }
   ],
   "source": [
    "study = float(input(\"Enter study hour :\"))\n",
    "if(study < 1):\n",
    "    print(\"it will take 8-9 month\")\n",
    "elif(study < 5 and study >1):\n",
    "    print(\"it will take 3 month\")\n",
    "else:\n",
    "    print(\"it will be difficult\")"
   ]
  },
  {
   "cell_type": "code",
   "execution_count": 4,
   "metadata": {},
   "outputs": [
    {
     "name": "stdout",
     "output_type": "stream",
     "text": [
      "Enter a string to strat :oneneuron\n",
      "Enter a course name :DSA\n",
      "Yes its available under one neuron and in multiple mode for job preparation and core concept\n"
     ]
    }
   ],
   "source": [
    "s = input(\"Enter a string to strat :\")\n",
    "if(s == \"oneneuron\"):\n",
    "    course = input(\"Enter a course name :\")\n",
    "    if(course == \"DSA\"):\n",
    "        print(\"Yes its available under one neuron and in multiple mode for job preparation and core concept\")\n",
    "    elif(course == \"Blockchain\"):\n",
    "        print(\"this is not available as of now , kindly raise your demand and we will fulfill in 60 days\")\n",
    "    elif(course == \"FSDS\"):\n",
    "        print(\"yes its available ,you can start learning\")\n",
    "    else:\n",
    "        print(\"this course is not availbale kindly raise your demand\")\n",
    "elif(s == \"oneneuronservice\"):\n",
    "    service == input(\"Enter a service :\")\n",
    "    if(service == courserequest):\n",
    "        print(\"Note :\")\n",
    "    elif(service == \"module\"):\n",
    "        print(\"Note 30 Days\")\n",
    "    elif(service == \"doubt\"):\n",
    "        print(\"Note 24hr\")\n",
    "    elif(service == \"workwithus\"):\n",
    "        print(\"Note we can reach\")\n",
    "    else:\n",
    "        print(\"Kindly provide your feedback !\")\n",
    "else:\n",
    "    print(\"Kindly connect with our team\")"
   ]
  },
  {
   "cell_type": "code",
   "execution_count": 7,
   "metadata": {},
   "outputs": [
    {
     "name": "stdout",
     "output_type": "stream",
     "text": [
      "Enter a string to strat :oneneuronservice\n",
      "Enter a service :doubt\n",
      "Note 24hr\n"
     ]
    }
   ],
   "source": [
    "s = input(\"Enter a string to strat :\")\n",
    "if(s == \"oneneuron\"):\n",
    "    course = input(\"Enter a course name :\")\n",
    "    if(course == \"DSA\"):\n",
    "        print(\"Yes its available under one neuron and in multiple mode for job preparation and core concept\")\n",
    "    elif(course == \"Blockchain\"):\n",
    "        print(\"this is not available as of now , kindly raise your demand and we will fulfill in 60 days\")\n",
    "    elif(course == \"FSDS\"):\n",
    "        print(\"yes its available ,you can start learning\")\n",
    "    else:\n",
    "        print(\"this course is not availbale kindly raise your demand\")\n",
    "elif(s == \"oneneuronservice\"):\n",
    "    service = input(\"Enter a service :\")\n",
    "    if(service == \"courserequest\"):\n",
    "        print(\"Note :\")\n",
    "    elif(service == \"module\"):\n",
    "        print(\"Note 30 Days\")\n",
    "    elif(service == \"doubt\"):\n",
    "        print(\"Note 24hr\")\n",
    "    elif(service == \"workwithus\"):\n",
    "        print(\"Note we can reach\")\n",
    "    else:\n",
    "        print(\"Kindly provide your feedback !\")\n",
    "else:\n",
    "    print(\"Kindly connect with our team\")"
   ]
  },
  {
   "cell_type": "code",
   "execution_count": 8,
   "metadata": {
    "scrolled": true
   },
   "outputs": [
    {
     "name": "stdout",
     "output_type": "stream",
     "text": [
      "Enter a string to strat :dgvdf\n",
      "Kindly connect with our team\n"
     ]
    }
   ],
   "source": [
    "s = input(\"Enter a string to strat :\")\n",
    "if(s == \"oneneuron\"):\n",
    "    course = input(\"Enter a course name :\")\n",
    "    if(course == \"DSA\"):\n",
    "        print(\"Yes its available under one neuron and in multiple mode for job preparation and core concept\")\n",
    "    elif(course == \"Blockchain\"):\n",
    "        print(\"this is not available as of now , kindly raise your demand and we will fulfill in 60 days\")\n",
    "    elif(course == \"FSDS\"):\n",
    "        print(\"yes its available ,you can start learning\")\n",
    "    else:\n",
    "        print(\"this course is not availbale kindly raise your demand\")\n",
    "elif(s == \"oneneuronservice\"):\n",
    "    service = input(\"Enter a service :\")\n",
    "    if(service == \"courserequest\"):\n",
    "        print(\"Note :\")\n",
    "    elif(service == \"module\"):\n",
    "        print(\"Note 30 Days\")\n",
    "    elif(service == \"doubt\"):\n",
    "        print(\"Note 24hr\")\n",
    "    elif(service == \"workwithus\"):\n",
    "        print(\"Note we can reach\")\n",
    "    else:\n",
    "        print(\"Kindly provide your feedback !\")\n",
    "else:\n",
    "    print(\"Kindly connect with our team\")"
   ]
  },
  {
   "cell_type": "code",
   "execution_count": 9,
   "metadata": {},
   "outputs": [
    {
     "data": {
      "text/plain": [
       "False"
      ]
     },
     "execution_count": 9,
     "metadata": {},
     "output_type": "execute_result"
    }
   ],
   "source": [
    "1>3"
   ]
  },
  {
   "cell_type": "code",
   "execution_count": null,
   "metadata": {},
   "outputs": [],
   "source": []
  }
 ],
 "metadata": {
  "kernelspec": {
   "display_name": "Python 3",
   "language": "python",
   "name": "python3"
  },
  "language_info": {
   "codemirror_mode": {
    "name": "ipython",
    "version": 3
   },
   "file_extension": ".py",
   "mimetype": "text/x-python",
   "name": "python",
   "nbconvert_exporter": "python",
   "pygments_lexer": "ipython3",
   "version": "3.7.3"
  }
 },
 "nbformat": 4,
 "nbformat_minor": 2
}
